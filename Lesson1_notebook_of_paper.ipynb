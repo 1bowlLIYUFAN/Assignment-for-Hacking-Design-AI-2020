{
 "cells": [
  {
   "cell_type": "code",
   "execution_count": 8,
   "metadata": {},
   "outputs": [
    {
     "name": "stdout",
     "output_type": "stream",
     "text": [
      "--01 正在建立转换矩阵T\n",
      "--02 正在提取图像RGB数据\n",
      "--03 正在转换至Kobayashi色彩空间\n",
      "--04 正在计算任意三色配对的语意分布\n",
      "--05 正在计算图像整体的语意分布\n",
      "图像的语意为：\n",
      "痛苦\n"
     ]
    }
   ],
   "source": [
    "#根据给定封面图像的颜色对其进行语意上的分类\n",
    "import random\n",
    "\n",
    "#01 建立从RGB到130色的Kobayashi色彩空间的变换矩阵T,读取图像RGB数据，返回Kobayashi色彩空间的数据\n",
    "def transTmatrix():\n",
    "    print(\"--01 正在建立转换矩阵T\")\n",
    "    Tmatrix=1\n",
    "    return Tmatrix\n",
    "    \n",
    "#02 提取封面图像RGB\n",
    "def getRGB_coverImage(image=\"cover\"):\n",
    "    #读取图片 B，G，R，返回多维矩阵h\n",
    "    print(\"--02 正在提取图像RGB数据\")\n",
    "    Hrgb=100\n",
    "    return Hrgb\n",
    "    \n",
    "#03 将封面图像从RGB空间转换到130色的Kobayashi色彩空间，返回多维矩阵k\n",
    "def Trans_coverImage(Hrgb=\"rgb数据\"):\n",
    "    print(\"--03 正在转换至Kobayashi色彩空间\")\n",
    "    k = T*h\n",
    "    return k\n",
    "    \n",
    "#04 任意三色配对，计算此配对在Kobayashi的Color Image Scale中的分布，返回分布矩阵d\n",
    "def compute_3colorCombination_distribution_in_Kscale(image=\"cover\"):\n",
    "    print(\"--04 正在计算任意三色配对的语意分布\")\n",
    "    d = k * random.randint(1,10) \n",
    "    return d\n",
    "\n",
    "#05 得到图像在Color Image Scale中的位置,返回图像颜色的语意\n",
    "def compute_image_distribution_in_Kscale(d=\"任意三色配对的语意分布\"):\n",
    "    print(\"--05 正在计算图像整体的语意分布\")\n",
    "    D = d * random.randint(1,10)\n",
    "    D_yuyi = \"痛苦\"\n",
    "    return D_yuyi\n",
    "\n",
    "\n",
    "T= transTmatrix()\n",
    "h= getRGB_coverImage(\"cover1\")\n",
    "k= Trans_coverImage(h)\n",
    "d=compute_3colorCombination_distribution_in_Kscale(\"cover1\")\n",
    "D_yuyi=compute_image_distribution_in_Kscale(d)\n",
    "print(\"图像的语意为：\")\n",
    "print (D_yuyi)\n",
    "\n"
   ]
  },
  {
   "cell_type": "code",
   "execution_count": 9,
   "metadata": {},
   "outputs": [
    {
     "name": "stdout",
     "output_type": "stream",
     "text": [
      "--01 正在MODIFIED HSV色彩空间Sh\n",
      "--02 正在将图像由RGB空间转换为MODIFIED HSV空间\n",
      "--03 正在提取主颜色\n",
      "--04 正在计算标题颜色\n",
      "--05 正在计算文字颜色\n",
      "标题颜色为：\n",
      "50\n",
      "文字颜色为：\n",
      "(51, 52)\n"
     ]
    }
   ],
   "source": [
    "#定义色板\n",
    "\n",
    "#01 建立 MODIFIED HSV色彩空间\n",
    "def build_MODIFIED_HSVspace():\n",
    "    print(\"--01 正在MODIFIED HSV色彩空间Sh\")\n",
    "    Sh=1\n",
    "    return Sh\n",
    "\n",
    "\n",
    "#02 将图像由RGB空间转换为MODIFIED HSV空间\n",
    "def Trans_coverImage_fromRGBtoHSVm(image=\"cover\"):\n",
    "    print(\"--02 正在将图像由RGB空间转换为MODIFIED HSV空间\")\n",
    "    RGB=2\n",
    "    HSVm=Sh*RGB\n",
    "    return HSVm\n",
    "\n",
    "#03 计算图像主颜色\n",
    "def extract_main_color_from_image(image=\"cover\"):\n",
    "    print(\"--03 正在提取主颜色\")\n",
    "    C=100\n",
    "    return C\n",
    "\n",
    "#04 计算标题颜色，即图像主颜色的补色\n",
    "def compute_titleColor(C_image):\n",
    "    print(\"--04 正在计算标题颜色\")\n",
    "    Ct = C_image-50\n",
    "    return Ct\n",
    "\n",
    "#05 计算文字颜色，即寻找2个标题颜色的相似色\n",
    "def compute_lineColor(C_title):\n",
    "    print(\"--05 正在计算文字颜色\")\n",
    "    Cl1 = 1+C_title\n",
    "    Cl2 = 2+C_title\n",
    "    return Cl1,Cl2\n",
    "\n",
    "\n",
    "Sh=build_MODIFIED_HSVspace()\n",
    "HSVm=Trans_coverImage_fromRGBtoHSVm(image=\"cover\")\n",
    "C_image=extract_main_color_from_image(image=\"cover\")\n",
    "C_title=compute_titleColor(C_image)\n",
    "C_lines=compute_lineColor(C_title)\n",
    "print(\"标题颜色为：\")\n",
    "print (C_title)\n",
    "print(\"文字颜色为：\")\n",
    "print (C_lines)"
   ]
  },
  {
   "cell_type": "code",
   "execution_count": 10,
   "metadata": {},
   "outputs": [
    {
     "name": "stdout",
     "output_type": "stream",
     "text": [
      "--01 正在判断文字颜色与周围图像是否相似\n",
      "(0, 1)\n",
      "--02 正在判断是否改变颜色\n",
      "--标题颜色与周围图像相似，需要改变\n",
      "--文字颜色与周围图像不相似，保留原结果\n",
      "根据易读性要求对色板进行修改后的色板颜色为：\n",
      "标题颜色为：\n",
      "0\n",
      "文字颜色为：\n",
      "(51, 52)\n"
     ]
    }
   ],
   "source": [
    "#根据易读性要求对色板进行修改\n",
    "\n",
    "#01 判断文字颜色与周围图像是否相似\n",
    "def wether_titleColor_lineColor_similar_to_background(C_title,C_lines):\n",
    "    print(\"--01 正在判断文字颜色与周围图像是否相似\")\n",
    "    wetherT=random.randint(0,1)\n",
    "    wetherL=random.randint(0,1)\n",
    "    return wetherT,wetherL\n",
    "\n",
    "W=wether_titleColor_lineColor_similar_to_background(C_title,C_lines)\n",
    "print(W)\n",
    "\n",
    "\n",
    "#02 如果相似使用黑或者白替换文本颜色，如果不相似保留原结果\n",
    "print(\"--02 正在判断是否改变颜色\")\n",
    "\n",
    "if W[0]==1:\n",
    "    print (\"--标题颜色与周围图像不相似，保留原结果\")\n",
    "else:\n",
    "    print (\"--标题颜色与周围图像相似，需要改变\")\n",
    "    C_title=0\n",
    "    \n",
    "if W[1]==1:\n",
    "    print (\"--文字颜色与周围图像不相似，保留原结果\")\n",
    "else:\n",
    "    print (\"--文字颜色与周围图像相似，需要改变\")\n",
    "    C_lines=0\n",
    "\n",
    "\n",
    "\n",
    "\n",
    "print ('根据易读性要求对色板进行修改后的色板颜色为：')\n",
    "print(\"标题颜色为：\")\n",
    "print (C_title)\n",
    "print(\"文字颜色为：\")\n",
    "print (C_lines)"
   ]
  },
  {
   "cell_type": "code",
   "execution_count": null,
   "metadata": {},
   "outputs": [],
   "source": []
  },
  {
   "cell_type": "code",
   "execution_count": null,
   "metadata": {},
   "outputs": [],
   "source": []
  }
 ],
 "metadata": {
  "kernelspec": {
   "display_name": "Python 2",
   "language": "python",
   "name": "python2"
  },
  "language_info": {
   "codemirror_mode": {
    "name": "ipython",
    "version": 2
   },
   "file_extension": ".py",
   "mimetype": "text/x-python",
   "name": "python",
   "nbconvert_exporter": "python",
   "pygments_lexer": "ipython2",
   "version": "2.7.16"
  }
 },
 "nbformat": 4,
 "nbformat_minor": 2
}
